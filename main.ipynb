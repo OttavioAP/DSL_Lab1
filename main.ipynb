{
 "cells": [
  {
   "cell_type": "code",
   "execution_count": 19,
   "metadata": {},
   "outputs": [
    {
     "name": "stdout",
     "output_type": "stream",
     "text": [
      "Mean: -0.07044014231234585, stdev: 5.0138792044402365\n"
     ]
    }
   ],
   "source": [
    "import numpy as np\n",
    "import pandas as pd\n",
    "\n",
    "gaussian = np.random.normal(0, 5, 25000)\n",
    "mean = gaussian.sum() / 25000\n",
    "stdev = np.sqrt(np.sum([pow(s - mean, 2) for s in gaussian]) / 25000)\n",
    "print(f\"Mean: {mean}, stdev: {stdev}\")"
   ]
  },
  {
   "cell_type": "code",
   "execution_count": 28,
   "metadata": {},
   "outputs": [
    {
     "name": "stdout",
     "output_type": "stream",
     "text": [
      "Mean X: -5.038099718439728, Mean Y: 5.0197260062209565\n",
      "Covariance Matrix: [[20.121211296120585, 0.8183577522759274], [0.8183577522759274, 30.23737263902432]]\n"
     ]
    }
   ],
   "source": [
    "import numpy as np\n",
    "import pandas as pd\n",
    "\n",
    "gaussian = np.random.multivariate_normal([-5, 5], [[20, .8], [.8, 30]], 10000)\n",
    "mean_x = np.sum([s[0] for s in gaussian])/10000\n",
    "mean_y = np.sum([s[1] for s in gaussian])/10000\n",
    "print(f\"Mean X: {mean_x}, Mean Y: {mean_y}\")\n",
    "var_x = np.sum([pow(s[0] - mean_x, 2) for s in gaussian])/10000\n",
    "var_y = np.sum([pow(s[1] - mean_y, 2) for s in gaussian])/10000\n",
    "cov_xy = np.sum([np.multiply((s[0] - mean_x), (s[1] - mean_y)) for s in gaussian])/10000\n",
    "print(f\"Covariance Matrix: [[{var_x}, {cov_xy}], [{cov_xy}, {var_y}]]\")\n"
   ]
  }
 ],
 "metadata": {
  "kernelspec": {
   "display_name": "Python 3",
   "language": "python",
   "name": "python3"
  },
  "language_info": {
   "codemirror_mode": {
    "name": "ipython",
    "version": 3
   },
   "file_extension": ".py",
   "mimetype": "text/x-python",
   "name": "python",
   "nbconvert_exporter": "python",
   "pygments_lexer": "ipython3",
   "version": "3.11.5"
  },
  "orig_nbformat": 4
 },
 "nbformat": 4,
 "nbformat_minor": 2
}
