{
 "cells": [
  {
   "cell_type": "code",
   "execution_count": null,
   "metadata": {},
   "outputs": [],
   "source": [
    "# Central Limit Theorem. Let Xi be an iid Bernoulli random variable with value {-1,1}.\n",
    "# Look at the random variable Zn = 1√n\n",
    "# P Xi. By taking 1000 draws from Zn, plot its his-\n",
    "# togram. Check that for small n (say, 5-10) Zn does not look that much like a Gaussian, but\n",
    "# when n is bigger (already by the time n = 30 or 50) it looks much more like a Gaussian.\n",
    "# Check also for much bigger n: n = 250, to see that at this point, one can really see the bell\n",
    "# curve."
   ]
  },
  {
   "cell_type": "code",
   "execution_count": null,
   "metadata": {},
   "outputs": [],
   "source": [
    "import random\n",
    "import math\n",
    "\n",
    "n = 5 \n",
    "\n",
    "def random_sign():\n",
    "    return -1 if random.random() < 0.5 else 1\n",
    "\n",
    "z_list = list() \n",
    "\n",
    "for _ in range(1000):\n",
    "    \n",
    "    # Sum up the values\n",
    "    total = sum(random_sign() for _ in range(n))\n",
    "\n",
    "    z = (1/(math.sqrt(n)))*total\n",
    "    z_list.append(z)\n",
    "\n",
    "\n"
   ]
  }
 ],
 "metadata": {
  "language_info": {
   "name": "python"
  },
  "orig_nbformat": 4
 },
 "nbformat": 4,
 "nbformat_minor": 2
}
